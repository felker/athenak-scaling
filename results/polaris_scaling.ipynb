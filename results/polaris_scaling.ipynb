{
 "cells": [
  {
   "cell_type": "markdown",
   "id": "c4b67709",
   "metadata": {},
   "source": [
    "# AthenaK scaling on ALCF Polaris\n",
    "\n",
    "2022-05-19"
   ]
  },
  {
   "cell_type": "code",
   "execution_count": null,
   "id": "b3f22239",
   "metadata": {},
   "outputs": [],
   "source": []
  }
 ],
 "metadata": {
  "kernelspec": {
   "display_name": "Python 3 (ipykernel)",
   "language": "python",
   "name": "python3"
  },
  "language_info": {
   "codemirror_mode": {
    "name": "ipython",
    "version": 3
   },
   "file_extension": ".py",
   "mimetype": "text/x-python",
   "name": "python",
   "nbconvert_exporter": "python",
   "pygments_lexer": "ipython3",
   "version": "3.8.13"
  }
 },
 "nbformat": 4,
 "nbformat_minor": 5
}
