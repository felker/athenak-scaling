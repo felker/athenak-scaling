{
 "cells": [
  {
   "cell_type": "markdown",
   "id": "c4b67709",
   "metadata": {},
   "source": [
    "# AthenaK scaling on ALCF Polaris\n",
    "\n",
    "2022-05-19"
   ]
  },
  {
   "cell_type": "code",
   "execution_count": null,
   "id": "b3f22239",
   "metadata": {},
   "outputs": [],
   "source": [
    "from matplotlib import pyplot as plt\n",
    "import matplotlib as mpl\n",
    "import numpy as np\n",
    "\n",
    "import pandas as pd\n",
    "\n",
    "mpl.rcParams['figure.dpi'] = 300\n",
    "\n",
    "from IPython.display import Image\n",
    "\n",
    "import seaborn as sns\n"
   ]
  },
  {
   "cell_type": "markdown",
   "id": "c384aaf2",
   "metadata": {},
   "source": [
    "## Strong scaling, 1 to 16 nodes"
   ]
  },
  {
   "cell_type": "code",
   "execution_count": null,
   "id": "3c64ab73",
   "metadata": {},
   "outputs": [],
   "source": [
    "data = pd.read_csv('strong_scaling.csv')\n",
    "data['Speedup'] = data['zone-cycles/cpu_second']/data['zone-cycles/cpu_second'][0]"
   ]
  },
  {
   "cell_type": "code",
   "execution_count": null,
   "id": "5fbca626",
   "metadata": {},
   "outputs": [],
   "source": [
    "data"
   ]
  },
  {
   "cell_type": "code",
   "execution_count": null,
   "id": "c1150c52",
   "metadata": {},
   "outputs": [],
   "source": [
    "data['zone-cycles/cpu_second'][0]"
   ]
  },
  {
   "cell_type": "code",
   "execution_count": null,
   "id": "b0679b06",
   "metadata": {},
   "outputs": [],
   "source": [
    "fig, ax = plt.subplots()\n",
    "ax.plot(data['Num MPI ranks'], data['zone-cycles/cpu_second'],'-o')\n",
    "#ax.set_xlabel('Number of MPI ranks = N_A100')\n",
    "ax.set_xlabel(r'$N_{\\mathrm{MPI}} = N_{\\mathrm{A100}}$')\n",
    "\n",
    "# ax.set_xscale('log', base=2)\n",
    "\n",
    "ax.set_ylabel('Zone-cycles/second')\n",
    "ax.axvline(x=4, color='0.8', alpha=0.8)\n"
   ]
  },
  {
   "cell_type": "code",
   "execution_count": null,
   "id": "f943561c",
   "metadata": {},
   "outputs": [],
   "source": [
    "fig.savefig(\"strong-scaling.pdf\")"
   ]
  },
  {
   "cell_type": "code",
   "execution_count": null,
   "id": "c122e343",
   "metadata": {},
   "outputs": [],
   "source": [
    "fig, ax = plt.subplots()\n",
    "ax.plot(data['Num MPI ranks'], data['Speedup'],'-o')\n",
    "#ax.set_xlabel('Number of MPI ranks = N_A100')\n",
    "ax.set_xlabel(r'$N_{\\mathrm{MPI}} = N_{\\mathrm{A100}}$')\n",
    "ax.set_ylabel('Speedup')\n",
    "\n",
    "ax.axvline(x=4, color='0.8', alpha=0.8)\n"
   ]
  },
  {
   "cell_type": "code",
   "execution_count": null,
   "id": "cadfc14a",
   "metadata": {},
   "outputs": [],
   "source": [
    "fig.savefig(\"strong-scaling-speedup.pdf\")"
   ]
  },
  {
   "cell_type": "markdown",
   "id": "3a4b30fa",
   "metadata": {},
   "source": [
    "## Weak scaling"
   ]
  },
  {
   "cell_type": "code",
   "execution_count": null,
   "id": "a3c95a19",
   "metadata": {},
   "outputs": [],
   "source": []
  }
 ],
 "metadata": {
  "kernelspec": {
   "display_name": "Python 3",
   "language": "python",
   "name": "python3"
  },
  "language_info": {
   "codemirror_mode": {
    "name": "ipython",
    "version": 3
   },
   "file_extension": ".py",
   "mimetype": "text/x-python",
   "name": "python",
   "nbconvert_exporter": "python",
   "pygments_lexer": "ipython3",
   "version": "3.8.0"
  }
 },
 "nbformat": 4,
 "nbformat_minor": 5
}
