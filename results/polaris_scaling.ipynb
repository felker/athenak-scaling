{
 "cells": [
  {
   "cell_type": "markdown",
   "id": "c4b67709",
   "metadata": {},
   "source": [
    "# AthenaK scaling on ALCF Polaris\n",
    "\n",
    "2022-05-19"
   ]
  },
  {
   "cell_type": "markdown",
   "id": "1f8b0ad4",
   "metadata": {},
   "source": [
    "## Description of datasets\n",
    "\n",
    "- GRMHD Torus v1: `weak_scaling.csv`, `strong_scaling_11_0.csv`, `strong_scaling.csv`\n",
    "  - Many small MeshBlocks, 512x 32^3 per GPU\n",
    "  - All outputs disabled\n",
    "  - Ran for `time/tlim=100.0`. Default limit of 1e4 would take ~6 hrs on one GPU\n",
    "  - Only problem configuration for which strong scaling tests were run.\n",
    "  - Strong scaling looked better compared to abysmal weak scaling results, since it results in fewer tiny MeshBlocks per GPU as you scale up in a strong scaling test.\n",
    " \n",
    "- GRMHD Torus v2: `weak_scaling_large_mbs.csv`\n",
    "  - Fewer large MeshBlocks, 16x 128^3 per GPU\n",
    "  - Otherwise, same parameters as before\n",
    "  \n",
    "- GRMHD (no-rad) linear wave: `weak_scaling_grmhd_linwave.csv`\n",
    "\n",
    "- GRMHD radiation linear wave, level 2 spherical mesh: `weak_scaling_grrad_linwave_nlevel2.csv`\n",
    "  - The number of angles is = 10*(level^2)+2\n",
    "  - 42 angles\n",
    "\n",
    "- GRMHD radiation linear wave, level 3 spherical mesh: `weak_scaling_grrad_linwave_nlevel3.csv`\n",
    "  - 92 angles\n",
    "  - Would not run without exhausting the 40.0 GiB of GPU memory "
   ]
  },
  {
   "cell_type": "markdown",
   "id": "bcac5b56",
   "metadata": {},
   "source": [
    "## Notes\n",
    "\n",
    "- Zsh is broken on compute nodes\n",
    "- For sub-node scaling results (1, 2, or 3 GPUs), need to manually \n",
    "- Decent improvement moving from CUDA Toolkit 11.0 to 11.6. Compare 2x strong scaling CSV files.\n",
    "- Needed commit from `compile_hotfix` branch to compile correctly with CUDA 11.6\n",
    "- Seg-fault will occur at runtime unless `export MPICH_GPU_SUPPORT_ENABLED=1` is executed to enable GPUDirect/CUDA-aware Cray MPICH. Not needed at compile time \n",
    "- For all scaling tests, I would proportionally scale the `mesh/x3min, mesh/x3max, mesh/nx3` parameters so that the resolution remains fixed for all problems (and hence the timestep)\n",
    "\n",
    "### Compilation instructions\n",
    "Best to compile on compute node, so CMake can autodetect the A100s. Example for compiling and running on 1 node:\n",
    "```\n",
    "qsub -q run_next -I -l select=1:ncpus=64:ngpus=4,walltime=03:00:00 -j oe -S /bin/bash\n",
    "\n",
    "module load craype-accel-nvidia80\n",
    "export MPICH_GPU_SUPPORT_ENABLED=1\n",
    "\n",
    "cd athenak\n",
    "rm -rfd build\n",
    "mkdir build; cd build\n",
    "cmake -D Athena_ENABLE_MPI=ON -DKokkos_ENABLE_CUDA=On -DKokkos_ENABLE_CUDA_LAMBDA=On -DKokkos_ARCH_AMPERE80=On -DCMAKE_CXX_COMPILER=/home/felker/athenak/kokkos/bin/nvcc_wrapper ..\n",
    "make -j 32\n",
    "\n",
    "cd src\n",
    "cp ~/athenak-scaling/*.sh ./\n",
    "\n",
    "mpiexec -np 1 -ppn 4 -d 16 --cpu-bind depth -env OMP_NUM_THREADS=16 ./gpu_affinity.sh\n",
    "```\n",
    "\n",
    "- GR Torus requires `-DPROBLEM=gr_torus` in CMake command. Used `compile_hotfix` branch\n",
    "- GRMHD (no radiation) linear wave requires `-DPROBLEM=rad_linear_wave` in CMake command. Used `scaling_grrad` branch\n",
    "- GRMHD Radiation linear wave requires **no** `-DPROBLEM` option in CMake command. Used `scaling_grmhd` branch\n",
    "\n",
    "\n",
    "### To do\n",
    "- [ ] Get dedicated full machine reservation; compare scaling efficiency loss at >= 64 nodes\n",
    "- [ ] Also retest after Slingshot 11 NIC upgrade in the fall\n",
    "- [ ] Run 512 and/or 550 node jobs when the ~50 down nodes are brought back into service\n",
    "- [ ] Explain the 7x efficiency loss from 1:8 GPUs when the 512x 32^3 MeshBlocks were used in the original GR torus problem setup"
   ]
  },
  {
   "cell_type": "markdown",
   "id": "ff716c6c",
   "metadata": {},
   "source": [
    "# Code"
   ]
  },
  {
   "cell_type": "code",
   "execution_count": null,
   "id": "b3f22239",
   "metadata": {},
   "outputs": [],
   "source": [
    "from matplotlib import pyplot as plt\n",
    "import matplotlib as mpl\n",
    "import numpy as np\n",
    "\n",
    "import pandas as pd\n",
    "\n",
    "mpl.rcParams['figure.dpi'] = 300\n",
    "\n",
    "from IPython.display import Image\n",
    "\n",
    "import seaborn as sns\n"
   ]
  },
  {
   "cell_type": "markdown",
   "id": "c384aaf2",
   "metadata": {},
   "source": [
    "## Strong scaling, 1 to 16 nodes"
   ]
  },
  {
   "cell_type": "code",
   "execution_count": null,
   "id": "3c64ab73",
   "metadata": {},
   "outputs": [],
   "source": [
    "data = pd.read_csv('strong_scaling.csv')\n",
    "data['Speedup'] = data['zone-cycles/cpu_second']/data['zone-cycles/cpu_second'][0]"
   ]
  },
  {
   "cell_type": "code",
   "execution_count": null,
   "id": "5fbca626",
   "metadata": {},
   "outputs": [],
   "source": [
    "data"
   ]
  },
  {
   "cell_type": "code",
   "execution_count": null,
   "id": "c1150c52",
   "metadata": {},
   "outputs": [],
   "source": [
    "data['zone-cycles/cpu_second'][0]"
   ]
  },
  {
   "cell_type": "code",
   "execution_count": null,
   "id": "b0679b06",
   "metadata": {},
   "outputs": [],
   "source": [
    "fig, ax = plt.subplots()\n",
    "ax.plot(data['Num MPI ranks'], data['zone-cycles/cpu_second'],'-o')\n",
    "#ax.set_xlabel('Number of MPI ranks = N_A100')\n",
    "ax.set_xlabel(r'$N_{\\mathrm{MPI}} = N_{\\mathrm{A100}}$')\n",
    "\n",
    "# ax.set_xscale('log', base=2)\n",
    "\n",
    "ax.set_ylabel('Zone-cycles/second')\n",
    "ax.axvline(x=4, color='0.8', alpha=0.8)\n"
   ]
  },
  {
   "cell_type": "code",
   "execution_count": null,
   "id": "f943561c",
   "metadata": {},
   "outputs": [],
   "source": [
    "fig.savefig(\"strong-scaling.pdf\")"
   ]
  },
  {
   "cell_type": "code",
   "execution_count": null,
   "id": "c122e343",
   "metadata": {},
   "outputs": [],
   "source": [
    "fig, ax = plt.subplots()\n",
    "ax.plot(data['Num MPI ranks'], data['Speedup'],'-o')\n",
    "#ax.set_xlabel('Number of MPI ranks = N_A100')\n",
    "ax.set_xlabel(r'$N_{\\mathrm{MPI}} = N_{\\mathrm{A100}}$')\n",
    "ax.set_ylabel('Speedup')\n",
    "\n",
    "ax.axvline(x=4, color='0.8', alpha=0.8)\n"
   ]
  },
  {
   "cell_type": "code",
   "execution_count": null,
   "id": "cadfc14a",
   "metadata": {},
   "outputs": [],
   "source": [
    "fig.savefig(\"strong-scaling-speedup.pdf\")"
   ]
  },
  {
   "cell_type": "markdown",
   "id": "3a4b30fa",
   "metadata": {},
   "source": [
    "## Weak scaling"
   ]
  },
  {
   "cell_type": "code",
   "execution_count": null,
   "id": "a3c95a19",
   "metadata": {},
   "outputs": [],
   "source": [
    "#data = pd.read_csv('weak_scaling.csv')\n",
    "#data = pd.read_csv('weak_scaling_large_mbs.csv', comment='#')\n",
    "# data = pd.read_csv('weak_scaling_grmhd_linwave.csv', comment='#')\n",
    "# data = pd.read_csv('weak_scaling_grrad_linwave_nlevel2.csv', comment='#')\n",
    "data = pd.read_csv('weak_scaling_grrad_linwave_nlevel3.csv', comment='#')\n",
    "\n",
    "data['Scaled speedup'] = data['zone-cycles/cpu_second']/data['zone-cycles/cpu_second'][0]\n",
    "data['Efficiency'] = data['cpu time used'][0]/data['cpu time used']"
   ]
  },
  {
   "cell_type": "code",
   "execution_count": null,
   "id": "12c2fcbc",
   "metadata": {},
   "outputs": [],
   "source": [
    "data"
   ]
  },
  {
   "cell_type": "code",
   "execution_count": null,
   "id": "f0cf1358",
   "metadata": {},
   "outputs": [],
   "source": [
    "fig, ax = plt.subplots()\n",
    "ax.plot(data['Num MPI ranks'], data['cpu time used'],'-o')\n",
    "#ax.set_xlabel('Number of MPI ranks = N_A100')\n",
    "ax.set_xlabel(r'$N_{\\mathrm{MPI}} = N_{\\mathrm{A100}}$')\n",
    "ax.set_ylabel('Wall time (s)')\n",
    "ax.axvline(x=4, color='0.8', alpha=0.8)\n"
   ]
  },
  {
   "cell_type": "code",
   "execution_count": null,
   "id": "9f5f09fa",
   "metadata": {},
   "outputs": [],
   "source": [
    "fig.savefig(\"weak-scaling-walltime.pdf\")"
   ]
  },
  {
   "cell_type": "code",
   "execution_count": null,
   "id": "73fee96d",
   "metadata": {},
   "outputs": [],
   "source": [
    "fig, ax = plt.subplots()\n",
    "ax.plot(data['Num MPI ranks'], data['cpu time used'],'-o')\n",
    "ax.set_xlabel(r'$N_{\\mathrm{MPI}} = N_{\\mathrm{A100}}$')\n",
    "ax.set_ylabel('Wall time (s)')\n",
    "ax.axvline(x=4, color='0.8', alpha=0.8)\n",
    "ax.set_xscale('log', base=2)\n"
   ]
  },
  {
   "cell_type": "code",
   "execution_count": null,
   "id": "9dfbbd01",
   "metadata": {},
   "outputs": [],
   "source": [
    "fig.savefig(\"weak-scaling-walltime-semilogy.pdf\")"
   ]
  },
  {
   "cell_type": "code",
   "execution_count": null,
   "id": "7b8add73",
   "metadata": {},
   "outputs": [],
   "source": [
    "fig, ax = plt.subplots()\n",
    "ax.plot(data['Num MPI ranks'], data['Efficiency'],'-o')\n",
    "ax.set_xlabel(r'$N_{\\mathrm{MPI}} = N_{\\mathrm{A100}}$')\n",
    "ax.set_ylabel('Efficiency')\n",
    "ax.axvline(x=4, color='0.8', alpha=0.8)"
   ]
  },
  {
   "cell_type": "code",
   "execution_count": null,
   "id": "50f11d3d",
   "metadata": {},
   "outputs": [],
   "source": [
    "fig.savefig(\"weak-scaling-efficiency.pdf\")"
   ]
  },
  {
   "cell_type": "code",
   "execution_count": null,
   "id": "a6217d96",
   "metadata": {},
   "outputs": [],
   "source": [
    "fig, ax = plt.subplots()\n",
    "ax.plot(data['Num MPI ranks'], data['Efficiency'],'-o')\n",
    "ax.set_xlabel(r'$N_{\\mathrm{MPI}} = N_{\\mathrm{A100}}$')\n",
    "ax.set_ylabel('Efficiency')\n",
    "ax.axvline(x=4, color='0.8', alpha=0.8)\n",
    "ax.set_xscale('log', base=2)"
   ]
  },
  {
   "cell_type": "code",
   "execution_count": null,
   "id": "7541e154",
   "metadata": {},
   "outputs": [],
   "source": [
    "fig.savefig(\"weak-scaling-efficiency-semilogy.pdf\")"
   ]
  },
  {
   "cell_type": "code",
   "execution_count": null,
   "id": "7b7dfa6e",
   "metadata": {},
   "outputs": [],
   "source": [
    "fig, ax = plt.subplots()\n",
    "ax.plot(data['Num MPI ranks'], data['zone-cycles/cpu_second']/data['Num MPI ranks'],'-o')\n",
    "ax.set_xlabel(r'$N_{\\mathrm{MPI}} = N_{\\mathrm{A100}}$')\n",
    "ax.set_ylabel('Normalized performance [zone-cycles/second/GPU]')\n",
    "ax.axvline(x=4, color='0.8', alpha=0.8)\n",
    "\n",
    "#ax.set_xscale('log', base=2)"
   ]
  },
  {
   "cell_type": "code",
   "execution_count": null,
   "id": "dbc868c7",
   "metadata": {},
   "outputs": [],
   "source": [
    "fig.savefig(\"weak-scaling-normalized-performance.pdf\")"
   ]
  },
  {
   "cell_type": "code",
   "execution_count": null,
   "id": "65d7ce83",
   "metadata": {},
   "outputs": [],
   "source": [
    "fig, ax = plt.subplots()\n",
    "ax.plot(data['Num MPI ranks'], data['zone-cycles/cpu_second']/data['Num MPI ranks'],'-o')\n",
    "ax.set_xlabel(r'$N_{\\mathrm{MPI}} = N_{\\mathrm{A100}}$')\n",
    "ax.set_ylabel('Normalized performance [zone-cycles/second/GPU]')\n",
    "ax.axvline(x=4, color='0.8', alpha=0.8)\n",
    "\n",
    "ax.set_xscale('log', base=2)"
   ]
  },
  {
   "cell_type": "code",
   "execution_count": null,
   "id": "bbd8567f",
   "metadata": {},
   "outputs": [],
   "source": [
    "fig.savefig(\"weak-scaling-normalized-performance-semilogy.pdf\")"
   ]
  },
  {
   "cell_type": "code",
   "execution_count": null,
   "id": "6867b3b0",
   "metadata": {},
   "outputs": [],
   "source": [
    "# fig, ax = plt.subplots()\n",
    "# ax.plot(data['Num nodes'], data['zone-cycles/cpu_second']/data['Num MPI ranks'],'-o')\n",
    "# ax.set_xlabel(r'$N_{\\mathrm{Nodes}} = \\frac{N_{\\mathrm{A100}}}{4}$')\n",
    "# ax.set_ylabel('Normalized performance [zone-cycles/second/GPU]')"
   ]
  },
  {
   "cell_type": "code",
   "execution_count": null,
   "id": "8b3b4e8d",
   "metadata": {},
   "outputs": [],
   "source": [
    "# fig.savefig(\"weak-scaling-normalized-performance-nodes.pdf\")"
   ]
  },
  {
   "cell_type": "code",
   "execution_count": null,
   "id": "f3b9b67f",
   "metadata": {},
   "outputs": [],
   "source": []
  }
 ],
 "metadata": {
  "kernelspec": {
   "display_name": "Python 3",
   "language": "python",
   "name": "python3"
  },
  "language_info": {
   "codemirror_mode": {
    "name": "ipython",
    "version": 3
   },
   "file_extension": ".py",
   "mimetype": "text/x-python",
   "name": "python",
   "nbconvert_exporter": "python",
   "pygments_lexer": "ipython3",
   "version": "3.8.0"
  }
 },
 "nbformat": 4,
 "nbformat_minor": 5
}
